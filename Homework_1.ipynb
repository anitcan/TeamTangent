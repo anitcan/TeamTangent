{
  "nbformat": 4,
  "nbformat_minor": 0,
  "metadata": {
    "kernelspec": {
      "display_name": "Python 3",
      "language": "python",
      "name": "python3"
    },
    "language_info": {
      "codemirror_mode": {
        "name": "ipython",
        "version": 3
      },
      "file_extension": ".py",
      "mimetype": "text/x-python",
      "name": "python",
      "nbconvert_exporter": "python",
      "pygments_lexer": "ipython3",
      "version": "3.6.10"
    },
    "colab": {
      "name": "Homework-1.ipynb",
      "provenance": [],
      "include_colab_link": true
    }
  },
  "cells": [
    {
      "cell_type": "markdown",
      "metadata": {
        "id": "view-in-github",
        "colab_type": "text"
      },
      "source": [
        "<a href=\"https://colab.research.google.com/github/anitcan/TeamTangent/blob/master/Homework_1.ipynb\" target=\"_parent\"><img src=\"https://colab.research.google.com/assets/colab-badge.svg\" alt=\"Open In Colab\"/></a>"
      ]
    },
    {
      "cell_type": "markdown",
      "metadata": {
        "id": "TYzk4PFvTh6F",
        "colab_type": "text"
      },
      "source": [
        "## A. Loading Dataset from ScikitLearn"
      ]
    },
    {
      "cell_type": "markdown",
      "metadata": {
        "id": "qI7VlBtITh6J",
        "colab_type": "text"
      },
      "source": [
        "### Step 1\n",
        "Load `iris` dataset from ScikitLearn using `load_iris()`. Assign the dataset to `X` and the target values to `y`."
      ]
    },
    {
      "cell_type": "code",
      "metadata": {
        "scrolled": true,
        "id": "8LKaBrAMTh6M",
        "colab_type": "code",
        "colab": {}
      },
      "source": [
        "from sklearn.datasets import load_iris\n",
        "iris = load_iris()"
      ],
      "execution_count": 1,
      "outputs": []
    },
    {
      "cell_type": "markdown",
      "metadata": {
        "id": "kVboRIqNTh6a",
        "colab_type": "text"
      },
      "source": [
        "### Step 2\n",
        "Print the dataset keys using `iris_dataset.keys()`"
      ]
    },
    {
      "cell_type": "code",
      "metadata": {
        "id": "ktf2PCOLTh6c",
        "colab_type": "code",
        "colab": {
          "base_uri": "https://localhost:8080/",
          "height": 34
        },
        "outputId": "9fc38fad-5a7d-40ca-84ab-07b4e37879fa"
      },
      "source": [
        "iris.keys()"
      ],
      "execution_count": 2,
      "outputs": [
        {
          "output_type": "execute_result",
          "data": {
            "text/plain": [
              "dict_keys(['data', 'target', 'target_names', 'DESCR', 'feature_names', 'filename'])"
            ]
          },
          "metadata": {
            "tags": []
          },
          "execution_count": 2
        }
      ]
    },
    {
      "cell_type": "markdown",
      "metadata": {
        "id": "ZrixLr0VTh6t",
        "colab_type": "text"
      },
      "source": [
        "### Step 3\n",
        "Print the names of the categories in the target file"
      ]
    },
    {
      "cell_type": "code",
      "metadata": {
        "id": "8vctsAn3Th6v",
        "colab_type": "code",
        "colab": {
          "base_uri": "https://localhost:8080/",
          "height": 34
        },
        "outputId": "ae525964-cf69-49e5-af56-54cde4dfbfe2"
      },
      "source": [
        "iris.target_names"
      ],
      "execution_count": 7,
      "outputs": [
        {
          "output_type": "execute_result",
          "data": {
            "text/plain": [
              "array(['setosa', 'versicolor', 'virginica'], dtype='<U10')"
            ]
          },
          "metadata": {
            "tags": []
          },
          "execution_count": 7
        }
      ]
    },
    {
      "cell_type": "markdown",
      "metadata": {
        "id": "GQmEQpioTh65",
        "colab_type": "text"
      },
      "source": [
        "### Step 4\n",
        "Print the feature names in the Iris dataset"
      ]
    },
    {
      "cell_type": "code",
      "metadata": {
        "id": "qaRkTStATh67",
        "colab_type": "code",
        "colab": {
          "base_uri": "https://localhost:8080/",
          "height": 84
        },
        "outputId": "7b9e3171-6f63-4e63-d66c-16bfd421525c"
      },
      "source": [
        "iris.feature_names"
      ],
      "execution_count": 8,
      "outputs": [
        {
          "output_type": "execute_result",
          "data": {
            "text/plain": [
              "['sepal length (cm)',\n",
              " 'sepal width (cm)',\n",
              " 'petal length (cm)',\n",
              " 'petal width (cm)']"
            ]
          },
          "metadata": {
            "tags": []
          },
          "execution_count": 8
        }
      ]
    },
    {
      "cell_type": "markdown",
      "metadata": {
        "id": "N-fu4hCmTh67",
        "colab_type": "text"
      },
      "source": [
        "### Step 5\n",
        "Print the type of the Iris dataset."
      ]
    },
    {
      "cell_type": "code",
      "metadata": {
        "id": "Qp8H3mrvTh67",
        "colab_type": "code",
        "colab": {}
      },
      "source": [
        ""
      ],
      "execution_count": null,
      "outputs": []
    },
    {
      "cell_type": "markdown",
      "metadata": {
        "id": "IAEhCfkNTh7L",
        "colab_type": "text"
      },
      "source": [
        "### Step 6\n",
        "Print the shape of the Iris dataset."
      ]
    },
    {
      "cell_type": "code",
      "metadata": {
        "id": "Zc1jYfppTh7L",
        "colab_type": "code",
        "colab": {}
      },
      "source": [
        ""
      ],
      "execution_count": null,
      "outputs": []
    },
    {
      "cell_type": "markdown",
      "metadata": {
        "id": "APavzUWWTh7b",
        "colab_type": "text"
      },
      "source": [
        "### Step 7\n",
        "Print the first five rows of the Iris dataset."
      ]
    },
    {
      "cell_type": "code",
      "metadata": {
        "id": "fEiN7appTh7b",
        "colab_type": "code",
        "colab": {}
      },
      "source": [
        ""
      ],
      "execution_count": null,
      "outputs": []
    },
    {
      "cell_type": "markdown",
      "metadata": {
        "id": "-fa1krNtTh7b",
        "colab_type": "text"
      },
      "source": [
        "### Step 8\n",
        "Print the type of the target variable of Iris dataset."
      ]
    },
    {
      "cell_type": "code",
      "metadata": {
        "id": "Xeyx0wnqTh7b",
        "colab_type": "code",
        "colab": {}
      },
      "source": [
        ""
      ],
      "execution_count": null,
      "outputs": []
    },
    {
      "cell_type": "markdown",
      "metadata": {
        "id": "7XC_7EZNTh7q",
        "colab_type": "text"
      },
      "source": [
        "### Step 9\n",
        "Print the shape of the target variable of Iris dataset."
      ]
    },
    {
      "cell_type": "code",
      "metadata": {
        "id": "SYB-0T9FTh7q",
        "colab_type": "code",
        "colab": {}
      },
      "source": [
        ""
      ],
      "execution_count": null,
      "outputs": []
    },
    {
      "cell_type": "markdown",
      "metadata": {
        "id": "N4NXeHGLTh76",
        "colab_type": "text"
      },
      "source": [
        "### Step 10\n",
        "Print the entire target variable values of the Iris dataset."
      ]
    },
    {
      "cell_type": "code",
      "metadata": {
        "id": "Es2B1JJoTh76",
        "colab_type": "code",
        "colab": {}
      },
      "source": [
        ""
      ],
      "execution_count": null,
      "outputs": []
    },
    {
      "cell_type": "markdown",
      "metadata": {
        "id": "7nQu7ZgCTh76",
        "colab_type": "text"
      },
      "source": [
        "### Step 11\n",
        "Import numpy with `import numpy as np` and use the `numpy.unique()` function to print the unique values of the target variable of Iris dataset"
      ]
    },
    {
      "cell_type": "code",
      "metadata": {
        "id": "up-DzAh7Th76",
        "colab_type": "code",
        "colab": {}
      },
      "source": [
        ""
      ],
      "execution_count": null,
      "outputs": []
    },
    {
      "cell_type": "markdown",
      "metadata": {
        "id": "UuI42FGETh8J",
        "colab_type": "text"
      },
      "source": [
        "### Step 12\n",
        "Split dataset into train and test datasets using `from sklearn.model_selection import train_test_split`"
      ]
    },
    {
      "cell_type": "code",
      "metadata": {
        "id": "aqbSHR7zTh8J",
        "colab_type": "code",
        "colab": {}
      },
      "source": [
        ""
      ],
      "execution_count": null,
      "outputs": []
    },
    {
      "cell_type": "markdown",
      "metadata": {
        "id": "iA_VouuXTh8Z",
        "colab_type": "text"
      },
      "source": [
        "### Step 13\n",
        "Print the shape of train/test datasets and the train/test target variables."
      ]
    },
    {
      "cell_type": "code",
      "metadata": {
        "id": "0bvt1TP4Th8Z",
        "colab_type": "code",
        "colab": {}
      },
      "source": [
        ""
      ],
      "execution_count": null,
      "outputs": []
    },
    {
      "cell_type": "markdown",
      "metadata": {
        "id": "gctmQyB8Th8Z",
        "colab_type": "text"
      },
      "source": [
        "### Step 14\n",
        "Build your K-neighbors classifier for nearest neighbor of 1 using `from sklearn.neighbors import KNeighborsClassifier`, fit the model to your train dataset and make a prediction for teh data point of `[5, 1.9, 1, 0.2]`. Print your prediction class value as an integer and also the corresponding string label."
      ]
    },
    {
      "cell_type": "code",
      "metadata": {
        "id": "D_ZUTU4aTh8p",
        "colab_type": "code",
        "colab": {}
      },
      "source": [
        ""
      ],
      "execution_count": null,
      "outputs": []
    },
    {
      "cell_type": "markdown",
      "metadata": {
        "id": "YZPKXiw8Th8p",
        "colab_type": "text"
      },
      "source": [
        "# B. Loading a Dataset and exploring it"
      ]
    },
    {
      "cell_type": "markdown",
      "metadata": {
        "id": "e9VdGmwITh8p",
        "colab_type": "text"
      },
      "source": [
        "### Step 1\n",
        "Import the modules needed to explore the data"
      ]
    },
    {
      "cell_type": "code",
      "metadata": {
        "id": "a9idHzUiTh8p",
        "colab_type": "code",
        "colab": {}
      },
      "source": [
        "import pandas as pd\n",
        "import numpy as np\n",
        "import seaborn as sns\n",
        "import matplotlib.pyplot as plt\n"
      ],
      "execution_count": null,
      "outputs": []
    },
    {
      "cell_type": "markdown",
      "metadata": {
        "id": "L8dtRQ0RTh84",
        "colab_type": "text"
      },
      "source": [
        "### Step 2\n",
        "Import `auto_mpg.csv` dataset using pandas'`read_csv` function. Print the first three samples from your dataset, print the index range of the observations, and print the column names of your dataset"
      ]
    },
    {
      "cell_type": "code",
      "metadata": {
        "id": "qQzISm03Th84",
        "colab_type": "code",
        "colab": {}
      },
      "source": [
        ""
      ],
      "execution_count": null,
      "outputs": []
    },
    {
      "cell_type": "markdown",
      "metadata": {
        "id": "9jW1WeP4Th84",
        "colab_type": "text"
      },
      "source": [
        "### Step 3\n",
        "Assign `mpg` column as output and name it as `y` and the rest of the data as the features and assign it to `X`. Print the shape of X."
      ]
    },
    {
      "cell_type": "code",
      "metadata": {
        "id": "jvGAkFvQTh9I",
        "colab_type": "code",
        "colab": {}
      },
      "source": [
        ""
      ],
      "execution_count": null,
      "outputs": []
    },
    {
      "cell_type": "markdown",
      "metadata": {
        "id": "jkA4oMZdTh9I",
        "colab_type": "text"
      },
      "source": [
        "### Step 4\n",
        "Bonus: Check the dataset if there are any missing values in any of the columns using `isnull().any()` functions."
      ]
    },
    {
      "cell_type": "code",
      "metadata": {
        "id": "z73VCRvETh9I",
        "colab_type": "code",
        "colab": {}
      },
      "source": [
        ""
      ],
      "execution_count": null,
      "outputs": []
    },
    {
      "cell_type": "markdown",
      "metadata": {
        "id": "OHnz9149Th9X",
        "colab_type": "text"
      },
      "source": [
        "### Step 5\n",
        "Check the data types of each feature. Which columns are continuous and which are categorical?"
      ]
    },
    {
      "cell_type": "code",
      "metadata": {
        "id": "777tXvNGTh9X",
        "colab_type": "code",
        "colab": {}
      },
      "source": [
        ""
      ],
      "execution_count": null,
      "outputs": []
    },
    {
      "cell_type": "markdown",
      "metadata": {
        "id": "2GHIgSYOTh9X",
        "colab_type": "text"
      },
      "source": [
        "### Step 6\n",
        "Look at the unique elements of horsepower"
      ]
    },
    {
      "cell_type": "code",
      "metadata": {
        "id": "TCUdMJByTh9X",
        "colab_type": "code",
        "colab": {}
      },
      "source": [
        ""
      ],
      "execution_count": null,
      "outputs": []
    },
    {
      "cell_type": "markdown",
      "metadata": {
        "id": "w44yNzlPTh9n",
        "colab_type": "text"
      },
      "source": [
        "### Step 7\n",
        "Let's describe data since everything looks in order. \n",
        "- See the statistical details of the dataset using `describe` and `info` methods."
      ]
    },
    {
      "cell_type": "code",
      "metadata": {
        "id": "nk96Ui42Th9n",
        "colab_type": "code",
        "colab": {}
      },
      "source": [
        ""
      ],
      "execution_count": null,
      "outputs": []
    },
    {
      "cell_type": "markdown",
      "metadata": {
        "id": "2ZBH8EgVTh93",
        "colab_type": "text"
      },
      "source": [
        "### Step 8\n",
        "Let's specifically look at the description of the mpg feature"
      ]
    },
    {
      "cell_type": "code",
      "metadata": {
        "id": "nvW7KcBOTh93",
        "colab_type": "code",
        "colab": {}
      },
      "source": [
        ""
      ],
      "execution_count": null,
      "outputs": []
    },
    {
      "cell_type": "markdown",
      "metadata": {
        "id": "IC5OSMnSTh-H",
        "colab_type": "text"
      },
      "source": [
        "### Step 9\n",
        "Visualize the distribution of the features of the data using `hist` method, use `bins=20`. "
      ]
    },
    {
      "cell_type": "code",
      "metadata": {
        "id": "NKgcc1MjTh-H",
        "colab_type": "code",
        "colab": {}
      },
      "source": [
        ""
      ],
      "execution_count": null,
      "outputs": []
    },
    {
      "cell_type": "markdown",
      "metadata": {
        "id": "V5csGULYTh-H",
        "colab_type": "text"
      },
      "source": [
        "### Step 10\n",
        "BONUS: Visualize the relationships between these data points. \n",
        "\n",
        "- Create a function to scale your dataset by using the formula $b=\\frac{x-min}{max-min}$. \n",
        "- Using this function, scale `displacement`, `horsepower`, `acceleration`, weight`, and `mpg`.\n",
        "- Create a boxplot of `mpg` for different `origin` values before and after scaling. \n"
      ]
    },
    {
      "cell_type": "code",
      "metadata": {
        "id": "FzRKk1R9Th-H",
        "colab_type": "code",
        "colab": {}
      },
      "source": [
        ""
      ],
      "execution_count": null,
      "outputs": []
    }
  ]
}